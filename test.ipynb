{
 "cells": [
  {
   "cell_type": "code",
   "execution_count": 108,
   "metadata": {},
   "outputs": [],
   "source": [
    "from scipy.stats import binom\n",
    "import matplotlib.pyplot as plt\n",
    "from random import normalvariate\n",
    "import numpy as np\n",
    "import math"
   ]
  },
  {
   "cell_type": "code",
   "execution_count": 55,
   "metadata": {},
   "outputs": [],
   "source": [
    "mean, var  = binom.stats(25, 0.5)"
   ]
  },
  {
   "cell_type": "code",
   "execution_count": 76,
   "metadata": {},
   "outputs": [
    {
     "data": {
      "text/plain": [
       "array([ 9.99551328, 10.02191787, 10.02191787,  9.99158664,  9.76837999,\n",
       "        8.01546441,  0.58559779,  4.1400578 ])"
      ]
     },
     "execution_count": 76,
     "metadata": {},
     "output_type": "execute_result"
    }
   ],
   "source": [
    "data = np.array([12,10,10,-2,21,50,-154,94])\n",
    "\n",
    "mean, var  = scipy.stats.distributions.norm.fit(data)\n",
    "\n",
    "\n",
    "\n",
    "fitted_data = scipy.stats.distributions.norm.pdf(data, mean, var)\n",
    "fitted_data*np.sum(data)**2"
   ]
  },
  {
   "cell_type": "code",
   "execution_count": 67,
   "metadata": {},
   "outputs": [
    {
     "data": {
      "text/plain": [
       "array([0.00594617, 0.00596188, 0.00596188, 0.00594384, 0.00581105,\n",
       "       0.00476827, 0.00034836, 0.00246285])"
      ]
     },
     "execution_count": 67,
     "metadata": {},
     "output_type": "execute_result"
    }
   ],
   "source": []
  },
  {
   "cell_type": "code",
   "execution_count": 50,
   "metadata": {},
   "outputs": [],
   "source": [
    "n = 100\n",
    "r_values = list(range(n+ 1))\n",
    "dist = [binom.cdf(r, n, 0.5) for r in r_values ]"
   ]
  },
  {
   "cell_type": "code",
   "execution_count": 51,
   "metadata": {},
   "outputs": [
    {
     "data": {
      "text/plain": [
       "[<matplotlib.lines.Line2D at 0x1e9551a5580>]"
      ]
     },
     "execution_count": 51,
     "metadata": {},
     "output_type": "execute_result"
    },
    {
     "data": {
      "image/png": "[encoded data removed]",
      "text/plain": [
       "<Figure size 432x288 with 1 Axes>"
      ]
     },
     "metadata": {
      "needs_background": "light"
     },
     "output_type": "display_data"
    }
   ],
   "source": [
    "plt.plot(dist)"
   ]
  },
  {
   "cell_type": "code",
   "execution_count": 48,
   "metadata": {},
   "outputs": [
    {
     "data": {
      "text/plain": [
       "[7.888609052210118e-31,\n",
       " 7.967495142732219e-29,\n",
       " 3.9845364322713306e-27,\n",
       " 1.3154334480650894e-25,\n",
       " 3.224844447881771e-24,\n",
       " 6.26162256269268e-23,\n",
       " 1.0029797609618065e-21,\n",
       " 1.363071866403019e-20,\n",
       " 1.6042818341220015e-19,\n",
       " 1.6610244897268262e-18,\n",
       " 1.5316450877189923e-17,\n",
       " 1.2704266677461526e-16,\n",
       " 9.556787680138532e-16,\n",
       " 6.564907761017925e-15,\n",
       " 4.1422259360400374e-14,\n",
       " 2.4127107519685975e-13,\n",
       " 1.3029679093280502e-12,\n",
       " 6.548999325035109e-12,\n",
       " 3.0739033075239876e-11,\n",
       " 1.3513812610243942e-10,\n",
       " 5.579544528625976e-10,\n",
       " 2.1686833167108188e-09,\n",
       " 7.952664236893068e-09,\n",
       " 2.756790387925026e-08,\n",
       " 9.050013106514627e-08,\n",
       " 2.818141017102701e-07,\n",
       " 8.336813247250504e-07,\n",
       " 2.346206306321115e-06,\n",
       " 6.289575008339427e-06,\n",
       " 1.6080007647833168e-05,\n",
       " 3.925069822796835e-05,\n",
       " 9.157161244117683e-05,\n",
       " 0.00020438858371340761,\n",
       " 0.0004368599184561862,\n",
       " 0.0008949651957434264,\n",
       " 0.0017588208614850794,\n",
       " 0.003318560257963064,\n",
       " 0.0060164878626817395,\n",
       " 0.01048936783892586,\n",
       " 0.017600100108852428,\n",
       " 0.02844396682049044,\n",
       " 0.044313040057033834,\n",
       " 0.06660530960360693,\n",
       " 0.09667395224782106,\n",
       " 0.1356265120369177,\n",
       " 0.18410080866334788,\n",
       " 0.24205920680364573,\n",
       " 0.30864970679462606,\n",
       " 0.38217671720133367,\n",
       " 0.46020538130641053,\n",
       " 0.5397946186935895,\n",
       " 0.6178232827986663,\n",
       " 0.6913502932053739,\n",
       " 0.7579407931963542,\n",
       " 0.8158991913366521,\n",
       " 0.8643734879630823,\n",
       " 0.903326047752179,\n",
       " 0.9333946903963931,\n",
       " 0.9556869599429662,\n",
       " 0.9715560331795096,\n",
       " 0.9823998998911476,\n",
       " 0.9895106321610742,\n",
       " 0.9939835121373183,\n",
       " 0.9966814397420369,\n",
       " 0.998241179138515,\n",
       " 0.9991050348042566,\n",
       " 0.9995631400815438,\n",
       " 0.9997956114162866,\n",
       " 0.9999084283875588,\n",
       " 0.999960749301772,\n",
       " 0.9999839199923521,\n",
       " 0.9999937104249916,\n",
       " 0.9999976537936937,\n",
       " 0.9999991663186752,\n",
       " 0.9999997181858983,\n",
       " 0.9999999094998689,\n",
       " 0.9999999724320962,\n",
       " 0.9999999920473358,\n",
       " 0.9999999978313167,\n",
       " 0.9999999994420455,\n",
       " 0.9999999998648619,\n",
       " 0.9999999999692609,\n",
       " 0.999999999993451,\n",
       " 0.999999999998697,\n",
       " 0.9999999999997587,\n",
       " 0.9999999999999586,\n",
       " 0.9999999999999934,\n",
       " 0.999999999999999,\n",
       " 0.9999999999999999,\n",
       " 1.0,\n",
       " 1.0,\n",
       " 1.0,\n",
       " 1.0,\n",
       " 1.0,\n",
       " 1.0,\n",
       " 1.0,\n",
       " 1.0,\n",
       " 1.0,\n",
       " 1.0,\n",
       " 1.0,\n",
       " 1.0]"
      ]
     },
     "execution_count": 48,
     "metadata": {},
     "output_type": "execute_result"
    }
   ],
   "source": [
    "dist"
   ]
  },
  {
   "cell_type": "code",
   "execution_count": 53,
   "metadata": {},
   "outputs": [],
   "source": [
    "def normal_choice(lst, mean=None, stddev=None):\n",
    "    if mean is None:\n",
    "        # if mean is not specified, use center of list\n",
    "        mean = (len(lst) - 1) / 2\n",
    "\n",
    "    if stddev is None:\n",
    "        # if stddev is not specified, let list be -3 .. +3 standard deviations\n",
    "        stddev = len(lst) / 6\n",
    "\n",
    "    while True:\n",
    "        index = int(normalvariate(mean, stddev) + 0.5)\n",
    "        if 0 <= index < len(lst):\n",
    "            return lst[index]"
   ]
  },
  {
   "cell_type": "code",
   "execution_count": 148,
   "metadata": {},
   "outputs": [
    {
     "name": "stdout",
     "output_type": "stream",
     "text": [
      "55\n",
      "58\n",
      "46\n",
      "50\n",
      "52\n",
      "48\n",
      "43\n",
      "36\n",
      "47\n",
      "45\n",
      "44\n",
      "64\n",
      "39\n",
      "56\n",
      "53\n",
      "49\n",
      "61\n",
      "40\n",
      "54\n",
      "42\n",
      "32\n",
      "67\n",
      "62\n",
      "57\n",
      "70\n",
      "Mean: 70.0\n"
     ]
    }
   ],
   "source": [
    "alist = np.arange(0,100,step=1)\n",
    "alist = np.sort(alist)\n",
    "\n",
    "alist = alist.tolist()\n",
    "results = np.zeros(shape=25)\n",
    "for i in range(25):\n",
    "    mean, var  = binom.stats(len(alist), 0.5)\n",
    "    result = normal_choice(alist,mean=mean,stddev=math.sqrt(var))\n",
    "    print(result)\n",
    "    alist.remove(result)\n",
    "    results[i] =result\n",
    "\n",
    "print(\"Mean:\", np.mean(result))"
   ]
  },
  {
   "cell_type": "code",
   "execution_count": 149,
   "metadata": {},
   "outputs": [
    {
     "data": {
      "text/plain": [
       "75"
      ]
     },
     "execution_count": 149,
     "metadata": {},
     "output_type": "execute_result"
    }
   ],
   "source": [
    "len(alist)"
   ]
  }
 ],
 "metadata": {
  "interpreter": {
   "hash": "4a58629c167b22d17cee97ce8d962734f04656b21e4adc5e2e5541264ba60242"
  },
  "kernelspec": {
   "display_name": "Python 3.8.10 64-bit",
   "language": "python",
   "name": "python3"
  },
  "language_info": {
   "codemirror_mode": {
    "name": "ipython",
    "version": 3
   },
   "file_extension": ".py",
   "mimetype": "text/x-python",
   "name": "python",
   "nbconvert_exporter": "python",
   "pygments_lexer": "ipython3",
   "version": "3.8.10"
  },
  "orig_nbformat": 4
 },
 "nbformat": 4,
 "nbformat_minor": 2
}
